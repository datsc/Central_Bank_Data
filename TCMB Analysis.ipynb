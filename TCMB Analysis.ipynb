{
 "cells": [
  {
   "cell_type": "markdown",
   "metadata": {
    "collapsed": true
   },
   "source": [
    "## A BRIEF LOOK AT TURKISH ECONOMICS"
   ]
  },
  {
   "cell_type": "markdown",
   "metadata": {},
   "source": [
    "Most of the data in this analysis comes from Turkey's Central Bank (TCMB) for now. The larger data from the TUIK (Turkish Statistics Institute) is going to be added."
   ]
  },
  {
   "cell_type": "markdown",
   "metadata": {},
   "source": [
    "### INTRODUCTION\n",
    "\n",
    "1. The data in this project come from https://evds2.tcmb.gov.tr, the website of the Turkish Central Bank.\n",
    "\n",
    "2. The project is still in progress. So far some data collection and initial analyses are done.\n",
    "\n",
    "3. Currently we have data for:\n",
    "     \n",
    "     * External debts\n",
    "\n",
    "     * GDP (only cumulative and un-used for now)\n",
    "     \n",
    "     * Price Indices (production and consumption) \n",
    "     \n",
    "     * Privatisation Gains (only total monatery gains)\n",
    "     \n",
    "     * Sectoral employment\n",
    "     \n",
    "     * Sectoral production\n",
    "     \n",
    "     * Gold, currency.\n",
    "     \n",
    "4) To be added:\n",
    "\n",
    "    * Nominal GDPPPP\n",
    "    \n",
    "    * Privatisation sectors and targets\n",
    "    \n",
    "    * Unemployment numbers (including gender).\n",
    "    \n",
    "    * Production and private sector firm's numbers per sector (especially textile, agriculture, mining and heavy industry)\n",
    "    \n",
    "    \n",
    "    \n",
    "    "
   ]
  },
  {
   "cell_type": "markdown",
   "metadata": {},
   "source": [
    "\n",
    "### Importing Modules"
   ]
  },
  {
   "cell_type": "code",
   "execution_count": 30,
   "metadata": {
    "collapsed": true
   },
   "outputs": [],
   "source": [
    "# for general control\n",
    "import datetime as dt\n",
    "import time\n",
    "import sys\n",
    "import math\n",
    "from IPython.core.interactiveshell import InteractiveShell\n",
    "InteractiveShell.ast_node_interactivity = \"all\"\n",
    "import warnings\n",
    "warnings.filterwarnings(\"ignore\")\n",
    "import scipy.stats\n",
    "from scipy.optimize import curve_fit\n",
    "from lmfit import Model\n",
    "from lmfit.models import SkewedGaussianModel\n",
    "\n",
    "# for data handling\n",
    "import numpy as np\n",
    "import pandas as pd\n",
    "from pandas import DataFrame, Series\n",
    "import re\n",
    "\n",
    "# for plotting\n",
    "import matplotlib.pyplot as plt\n",
    "import matplotlib as mplib\n",
    "from matplotlib import rc\n",
    "import seaborn as sns\n",
    "# show matlplotlib output in notebook\n",
    "%matplotlib inline\n",
    "\n",
    "# for machine learning\n",
    "import sklearn"
   ]
  },
  {
   "cell_type": "markdown",
   "metadata": {},
   "source": [
    "### Column Names\n",
    "\n",
    "The column list of the data set is defined here based on the information from the TCMB data page: https://evds2.tcmb.gov.tr\n",
    "\n",
    "This can be made in a more elegant way later."
   ]
  },
  {
   "cell_type": "code",
   "execution_count": 95,
   "metadata": {
    "collapsed": false
   },
   "outputs": [],
   "source": [
    "filenames = ['EVDS_disborc.xlsx','EVDS_ithalat_ihracat.xlsx','EVDS_gsyh_firma.xlsx',\n",
    "            'EVDS_istihdam_butce.xlsx','EVDS_privatisation.xlsx','EVDS_uretim.xlsx']\n",
    "\n",
    "# External Debt data\n",
    "ext_debt_col = [\"Date\",\"Total_Debt\",\"Short\",\"Long_4A\",\"Long_State_Owned\",\\\n",
    "                        \"Long_4B\",\"Private\",\"Financial_Inst\",\"Finance_woBanks\",\\\n",
    "                        \"Private_Invest\",\"Commercial_Banks\",\"Official\",\"Governmental\",\\\n",
    "                        \"International\",\"IMF\",\"Other_international\"]\n",
    "\n",
    "# Import - Export - Consumer Prices\n",
    "imp_exp_col = [\"Date\",\"Living\",\"Health\",\"Education\",\"Food_Drinks\",\"Food\",\\\n",
    "                        \"Export\",\"Import\",\"Invest_export\",\"Invest_import\",\\\n",
    "                        \"Consume_export\",\"Consume_Import\"]\n",
    "\n",
    "# Import - Export: GDP\n",
    "gdp_in_col = [\"Date\",\"GDP_consumer\",\"GDP_earnings\",\"New_Firms\",\"New_Firms_Finance\",\"Closing\"]\n",
    "\n",
    "# Privatisation\n",
    "priv_in_col = [\"Date\",\"Priv_Gain\"]\n",
    "\n",
    "# Employment - Budget\n",
    "emp_bud_col = [\"Date\",\"Help_Pol_Par\",\"Agri_support\",\"Animal_support\",\\\n",
    "               \"Agri_Reform_Proj\",\"Tot_Emp\",\"Emp_agr_fors_fish\",\"Mining\",\n",
    "               \"Production\",\"Elec_Gas_Hydro_Water_Canalisation\",\"Building\",\\\n",
    "               \"Wholesale_Single\",\"Transport\",\"Communication\",\"Finance_Insurance\",\\\n",
    "               \"Immovable\",\"Scientific_Technical\",\"Management_support\",\\\n",
    "               \"Public_and_Defense\", \"Education\",\"Health_Social\",\\\n",
    "               \"Culture_Art_Sport\",\"Other_public\"]\n",
    "\n",
    "# Production\n",
    "prod_col = [\"Date\",\"Prod_elec(GWh)\",\"Prod_export\",\"Prod_import\",\"Consump\",\\\n",
    "            \"Tot_Industry\",\"Mining\",\"Production\",\"Coal_Lignite\",\"Prod_food\",\n",
    "            \"Prod_textile\",\"Prod_chemical\"]\n",
    "\n",
    "# Gold and Exchange Rate\n",
    "gold_exc_col = [\"Date\",\"Gold_sales\",\"Gold_price_ind\",\"Official_gold_price\",\"Ounce_Gold_London\",\\\n",
    "           \"Euro\",\"Effective_exch\"]"
   ]
  },
  {
   "cell_type": "markdown",
   "metadata": {},
   "source": [
    "### Function to read the Excel files"
   ]
  },
  {
   "cell_type": "code",
   "execution_count": 96,
   "metadata": {
    "collapsed": true
   },
   "outputs": [],
   "source": [
    "def read_data_in(file_in,column_list,lines):\n",
    "    \"\"\"Function to quickly read a number of lines from Excel and rename the columns for each\\\n",
    "    data\"\"\"\n",
    "    indat = pd.read_excel(file_in)\n",
    "    indat = indat.loc[0:lines]\n",
    "    indat.columns = column_list\n",
    "    return indat\n"
   ]
  },
  {
   "cell_type": "markdown",
   "metadata": {},
   "source": [
    "### Read Data In"
   ]
  },
  {
   "cell_type": "code",
   "execution_count": 97,
   "metadata": {
    "collapsed": false
   },
   "outputs": [
    {
     "name": "stdout",
     "output_type": "stream",
     "text": [
      "(68, 'Billions of Dollars gained from privatisation of State assets, in', 31, 'years')\n"
     ]
    }
   ],
   "source": [
    "# External Debts\n",
    "ext_debt_in = read_data_in('EVDS_disborc.xlsx', ext_debt_col, 28)\n",
    "\n",
    "\n",
    "# Import Export data\n",
    "imp_exp_in  = read_data_in('EVDS_ithalat_ihracat.xlsx', imp_exp_col, 149)\n",
    "# converting all to float\n",
    "imp_exp_in[[\"Health\",\"Living\"]] = imp_exp_in[[\"Health\",\"Living\"]].apply(pd.to_numeric)\n",
    "\n",
    "\n",
    "\n",
    "# GDP data  (converting to millions)\n",
    "gdp_in  = read_data_in('EVDS_gsyh_firma.xlsx', gdp_in_col, 20)\n",
    "gdp_in[[\"GDP_consumer\",\"GDP_earnings\"]] = \\\n",
    "       gdp_in[[\"GDP_consumer\",\"GDP_earnings\"]].apply(lambda x: x/10**6)\n",
    "\n",
    "    \n",
    "    \n",
    "# Privatisation data and conversion to billions of dollars\n",
    "priv_in = read_data_in('EVDS_privatisation.xlsx',priv_in_col,32)\n",
    "priv_in[\"Priv_Gain\"] = priv_in[\"Priv_Gain\"]/10**6.\n",
    "Total_gains = priv_in[\"Priv_Gain\"].sum()\n",
    "nr_years  = max(priv_in[\"Date\"]) - min(priv_in[\"Date\"])\n",
    "print(int(Total_gains)/1000, \"Billions of Dollars gained from privatisation of State assets, in\", nr_years,\"years\")\n",
    "\n",
    "\n",
    "\n",
    "# Employment_Budget (employment given in 1000s)\n",
    "emp_bud_in = read_data_in('EVDS_istihdam_butce.xlsx', emp_bud_col, 148)\n",
    "emp_bud_in[[\"Help_Pol_Par\",\"Agri_support\"]] = emp_bud_in[[\"Help_Pol_Par\",\"Agri_support\"]].apply(pd.to_numeric)\n",
    "emp_bud_in.iloc[:,5:] = emp_bud_in.iloc[:,5:].apply(lambda x: x*1000)\n",
    "emp_bud_in.iloc[:,1:5] = emp_bud_in.iloc[:,1:5].apply(lambda x: x*1000)#TL\n",
    "\n",
    "\n",
    "\n",
    "# Production\n",
    "prod_col_in = read_data_in('EVDS_uretim.xlsx', prod_col, 37)\n",
    "\n",
    "\n",
    "# Gold_exchange_rate\n",
    "gold_exc_in = read_data_in('EVDS_altin_doviz.xlsx',gold_exc_col,149)\n",
    "gold_exc_in[[\"Gold_sales\",\"Gold_price_ind\"]] = gold_exc_in[[\"Gold_sales\",\"Gold_price_ind\"]].\\\n",
    "apply(pd.to_numeric)\n"
   ]
  },
  {
   "cell_type": "markdown",
   "metadata": {},
   "source": [
    "### Data Transformation\n",
    "\n"
   ]
  },
  {
   "cell_type": "markdown",
   "metadata": {},
   "source": [
    "Converting the column Data that has monthly data to a simple year columns.\n",
    "\n"
   ]
  },
  {
   "cell_type": "code",
   "execution_count": 58,
   "metadata": {
    "collapsed": false
   },
   "outputs": [],
   "source": [
    "def convert_date(datafr):\n",
    "    \"\"\"Function cleaning the data column. \"\"\"\n",
    "    # Delete detail\n",
    "    datafr[\"Date\"] = datafr[\"Date\"].str.split('-',n=1, expand = True)[0]\n",
    "    datafr[\"Date\"] = pd.to_numeric(datafr[\"Date\"])\n",
    "    #summarise with mean\n",
    "    datafr = datafr.groupby([\"Date\"]).mean() \n",
    "    datafr = datafr.reset_index()\n",
    "\n",
    "    return datafr\n"
   ]
  },
  {
   "cell_type": "code",
   "execution_count": 59,
   "metadata": {
    "collapsed": false
   },
   "outputs": [],
   "source": [
    "imp_exp_in = convert_date(imp_exp_in) \n",
    "prod_col_in = convert_date(prod_col_in)\n",
    "emp_bud_in = convert_date(emp_bud_in)\n",
    "gold_exc_in = convert_date(gold_exc_in)"
   ]
  },
  {
   "cell_type": "code",
   "execution_count": 60,
   "metadata": {
    "collapsed": false
   },
   "outputs": [
    {
     "data": {
      "text/html": [
       "<div>\n",
       "<style>\n",
       "    .dataframe thead tr:only-child th {\n",
       "        text-align: right;\n",
       "    }\n",
       "\n",
       "    .dataframe thead th {\n",
       "        text-align: left;\n",
       "    }\n",
       "\n",
       "    .dataframe tbody tr th {\n",
       "        vertical-align: top;\n",
       "    }\n",
       "</style>\n",
       "<table border=\"1\" class=\"dataframe\">\n",
       "  <thead>\n",
       "    <tr style=\"text-align: right;\">\n",
       "      <th></th>\n",
       "      <th>Date</th>\n",
       "      <th>Living</th>\n",
       "      <th>Health</th>\n",
       "      <th>Education</th>\n",
       "      <th>Food_Drinks</th>\n",
       "      <th>Food</th>\n",
       "      <th>Export</th>\n",
       "      <th>Import</th>\n",
       "      <th>Invest_export</th>\n",
       "      <th>Invest_import</th>\n",
       "      <th>Consume_export</th>\n",
       "      <th>Consume_Import</th>\n",
       "    </tr>\n",
       "  </thead>\n",
       "  <tbody>\n",
       "    <tr>\n",
       "      <th>0</th>\n",
       "      <td>2005</td>\n",
       "      <td>126.06</td>\n",
       "      <td>111.75</td>\n",
       "      <td>140.69</td>\n",
       "      <td>116.08</td>\n",
       "      <td>115.7</td>\n",
       "      <td>7246.279</td>\n",
       "      <td>11682.578</td>\n",
       "      <td>752.18</td>\n",
       "      <td>2372.985</td>\n",
       "      <td>3404.019</td>\n",
       "      <td>1558.103</td>\n",
       "    </tr>\n",
       "  </tbody>\n",
       "</table>\n",
       "</div>"
      ],
      "text/plain": [
       "   Date  Living  Health  Education  Food_Drinks   Food    Export     Import  \\\n",
       "0  2005  126.06  111.75     140.69       116.08  115.7  7246.279  11682.578   \n",
       "\n",
       "   Invest_export  Invest_import  Consume_export  Consume_Import  \n",
       "0         752.18       2372.985        3404.019        1558.103  "
      ]
     },
     "execution_count": 60,
     "metadata": {},
     "output_type": "execute_result"
    },
    {
     "data": {
      "text/html": [
       "<div>\n",
       "<style>\n",
       "    .dataframe thead tr:only-child th {\n",
       "        text-align: right;\n",
       "    }\n",
       "\n",
       "    .dataframe thead th {\n",
       "        text-align: left;\n",
       "    }\n",
       "\n",
       "    .dataframe tbody tr th {\n",
       "        vertical-align: top;\n",
       "    }\n",
       "</style>\n",
       "<table border=\"1\" class=\"dataframe\">\n",
       "  <thead>\n",
       "    <tr style=\"text-align: right;\">\n",
       "      <th></th>\n",
       "      <th>Date</th>\n",
       "      <th>Gold_sales</th>\n",
       "      <th>Gold_price_ind</th>\n",
       "      <th>Official_gold_price</th>\n",
       "      <th>Ounce_Gold_London</th>\n",
       "      <th>Euro</th>\n",
       "      <th>Effective_exch</th>\n",
       "    </tr>\n",
       "  </thead>\n",
       "  <tbody>\n",
       "    <tr>\n",
       "      <th>0</th>\n",
       "      <td>2006</td>\n",
       "      <td>NaN</td>\n",
       "      <td>1386.435881</td>\n",
       "      <td>193.273333</td>\n",
       "      <td>608.125</td>\n",
       "      <td>1.255533</td>\n",
       "      <td>106.7675</td>\n",
       "    </tr>\n",
       "  </tbody>\n",
       "</table>\n",
       "</div>"
      ],
      "text/plain": [
       "   Date  Gold_sales  Gold_price_ind  Official_gold_price  Ounce_Gold_London  \\\n",
       "0  2006         NaN     1386.435881           193.273333            608.125   \n",
       "\n",
       "       Euro  Effective_exch  \n",
       "0  1.255533        106.7675  "
      ]
     },
     "execution_count": 60,
     "metadata": {},
     "output_type": "execute_result"
    }
   ],
   "source": [
    "imp_exp_in.head(1)\n",
    "gold_exc_in.head(1)\n"
   ]
  },
  {
   "cell_type": "markdown",
   "metadata": {},
   "source": [
    "### Plotting Function"
   ]
  },
  {
   "cell_type": "code",
   "execution_count": 75,
   "metadata": {
    "collapsed": false
   },
   "outputs": [],
   "source": [
    "def plot_pathways(dataset,var_col,date_col = \"Date\", pl_title = \"\", ylab = \"\",\\\n",
    "                  data_opt = \"\",var_opt = \"\", date_opt = \"Date\", ftype = \"1\"):\n",
    "    \"\"\"Function that can plot the time series for all data.\n",
    "    Default is to plot multiple columns of a single data set.\n",
    "    It can however, take two data sets as arguments to be \n",
    "    plotted together\"\"\"\n",
    "    \n",
    "    new_pl = plt.figure()\n",
    "    # First checking whether we need to do anything for the optional data\n",
    "    if len(data_opt) != 0:\n",
    "        opt = 1\n",
    "        for i in var_opt:\n",
    "            if type(i)==int:\n",
    "                current_opt = data_opt.iloc[:,i]\n",
    "            elif type(i)==str:\n",
    "                current_opt = data_opt.loc[:,i]\n",
    "            else:\n",
    "                print(\"Error: You have a column name that is not an integer or string in the\\\n",
    "                OPTIONAL data frame\", i, type(i))\n",
    "                break\n",
    "    else:\n",
    "        opt = 0\n",
    "        #print(\"No additional data given\")\n",
    "\n",
    "    # Now the main data set is subset\n",
    "    for j in var_col:\n",
    "        if type(j)==int:\n",
    "            current = dataset.iloc[:,j]\n",
    "        elif type(j)==str:\n",
    "            current = dataset.loc[:,j]\n",
    "        else:\n",
    "            print(\"Error: You have a column name that is not an integer or string\", j, type(j))\n",
    "            break\n",
    "\n",
    "        if opt == 0:\n",
    "            new_pl = plt.plot(dataset[[date_col]],current, label=j)\n",
    "        elif opt == 1:\n",
    "            new_pl = plt.plot(dataset[[date_col]],current )\n",
    "        new_pl = plt.title(pl_title)\n",
    "        new_pl = plt.ylabel(ylab)    \n",
    "               \n",
    "    if opt == 1:\n",
    "        if ftype == \"logy\":\n",
    "            new_pl = plt.semilogy(data_opt[[date_col]],current_opt)  \n",
    "        else:\n",
    "            new_pl = plt.plot(data_opt[[date_col]],current_opt)  \n",
    " \n",
    "    new_pl = plt.legend()\n",
    "    #return new_pl\n",
    " "
   ]
  },
  {
   "cell_type": "markdown",
   "metadata": {},
   "source": [
    "### Exploratory Data Analysis"
   ]
  },
  {
   "cell_type": "markdown",
   "metadata": {},
   "source": [
    "#### 1. Help to the Political Parties as percentage of Budget\n",
    "\n",
    "The 10-fold increase in the last 10 years, in the help to political parties from the state budget."
   ]
  },
  {
   "cell_type": "code",
   "execution_count": 76,
   "metadata": {
    "collapsed": false
   },
   "outputs": [
    {
     "data": {
      "image/png": "[encoded data removed]",
      "text/plain": [
       "<matplotlib.figure.Figure at 0x11806e690>"
      ]
     },
     "metadata": {},
     "output_type": "display_data"
    }
   ],
   "source": [
    "\n",
    "plot_pathways(emp_bud_in,[\"Help_Pol_Par\"],\"Date\", pl_title = \"Help to Political Part(ies)\",\\\n",
    "                ylab = \"YTL\")\n"
   ]
  },
  {
   "cell_type": "markdown",
   "metadata": {},
   "source": [
    "#### 2. Exponential increase of the Consumer Price Index for food.\n",
    "\n",
    "In the news, it is reported that basic food such as onions and tomatoes are getting very expensive day by day. The figure support the hypothesis that the food prices seem to increase much faster than average inflation. This will be later modelled against fuel prices and exchange rate."
   ]
  },
  {
   "cell_type": "code",
   "execution_count": 77,
   "metadata": {
    "collapsed": false
   },
   "outputs": [
    {
     "data": {
      "image/png": "[encoded data removed]",
      "text/plain": [
       "<matplotlib.figure.Figure at 0x117e4ce10>"
      ]
     },
     "metadata": {},
     "output_type": "display_data"
    }
   ],
   "source": [
    "plot_pathways(imp_exp_in,[\"Living\",\"Food\",\"Health\",\"Education\"],\"Date\",\\\n",
    "              \"Consumer Price Index\",\"100 for 1994\")\n",
    "\n"
   ]
  },
  {
   "cell_type": "markdown",
   "metadata": {},
   "source": [
    "#### 3. External debts also increasing fast\n",
    "\n",
    "Similarly and worryingly, external debst seem to grow exponentially too. Also the debts of the private sector, especially now that the currency lost 50% value in the last 5 years is worrying."
   ]
  },
  {
   "cell_type": "code",
   "execution_count": 88,
   "metadata": {
    "collapsed": false
   },
   "outputs": [
    {
     "data": {
      "image/png": "[encoded data removed]",
      "text/plain": [
       "<matplotlib.figure.Figure at 0x1182e0510>"
      ]
     },
     "metadata": {},
     "output_type": "display_data"
    }
   ],
   "source": [
    "plot_pathways(ext_debt_in, [\"Total_Debt\",\"Long_State_Owned\",\"Private\",\"Official\",\\\n",
    "                            \"Governmental\",\"International\",\"IMF\",\\\n",
    "                            \"Other_international\"],\"Date\", \"External Debts\", \"Bln Dollars\")\n",
    "\n"
   ]
  },
  {
   "cell_type": "markdown",
   "metadata": {},
   "source": [
    "#### 4. Gains from Privatisation\n",
    "\n",
    "TO BE CLARIFIED: Despite the increase of gains from privatisation, the overall gain might not be quite as strong as suggested by the figure. The interesting data to find is the actual value of the institutions sold through privatisation. \n",
    "\n",
    "Combined with the sales of major investment institutions founded early in the Turkish Republic's life, like Sümerbank and Etibank that had large market shares in the textile and electricity/mining, as well as the increasing debts of all but especially the private sector, can impact the economy in the coming years. Sümerbank is an interesting case that can be studied separately. Always reporting gains until the late 80s, its value decreased substantially at the time as it got into the privatisation list. Especially as its immovables has been transferred freely to other institutions its debts increased drastically and it finally got privatised in 2004. \n",
    "https://www.evrensel.net/haber/146731/bir-ozellestirme-romani-sumerbank"
   ]
  },
  {
   "cell_type": "code",
   "execution_count": 93,
   "metadata": {
    "collapsed": false
   },
   "outputs": [
    {
     "data": {
      "image/png": "[encoded data removed]",
      "text/plain": [
       "<matplotlib.figure.Figure at 0x118706850>"
      ]
     },
     "metadata": {},
     "output_type": "display_data"
    }
   ],
   "source": [
    "# For privatisation vs debt, using log scale\n",
    "plot_pathways(priv_in,[\"Priv_Gain\"], \"Date\",\"Mln Dollars\")\n"
   ]
  },
  {
   "cell_type": "markdown",
   "metadata": {},
   "source": [
    "#### 4. Number of newly opening and closing firms\n",
    "\n",
    "This data shows a large number of new companies being open, very likely related to the growth rate."
   ]
  },
  {
   "cell_type": "code",
   "execution_count": 94,
   "metadata": {
    "collapsed": false
   },
   "outputs": [
    {
     "data": {
      "image/png": "[encoded data removed]",
      "text/plain": [
       "<matplotlib.figure.Figure at 0x118849590>"
      ]
     },
     "metadata": {},
     "output_type": "display_data"
    }
   ],
   "source": [
    "plot_pathways(gdp_in,[\"New_Firms\",\"Closing\"],\"Date\",\\\n",
    "              \"Opening and Closing Firm Numbers\",\"Firms\")\n"
   ]
  },
  {
   "cell_type": "code",
   "execution_count": null,
   "metadata": {
    "collapsed": true
   },
   "outputs": [],
   "source": []
  },
  {
   "cell_type": "code",
   "execution_count": null,
   "metadata": {
    "collapsed": false
   },
   "outputs": [],
   "source": [
    "# Writing a fine-tuned linear regression model\n",
    "\n",
    "def linreg(x,y, islog = False):\n",
    "    \"\"\"Minimising the distance between data and a regression line of y = ax + b\"\"\"\n",
    "\n",
    "    # normalisation of y and the constants\n",
    "    if islog == True:\n",
    "        y = np.log(y)\n",
    "\n",
    "    # Normalisation\n",
    "    norm_cte = max(y)\n",
    "    y = y/norm_cte \n",
    "    b = min(y) \n",
    "    slope_guess = (y[(len(x)-1)] - y[0]) / (x[(len(x)-1)] - x[0])\n",
    "\n",
    "    # number of iterations to find the slope\n",
    "    n_try = 151\n",
    "    k = -n_try*1/2\n",
    "    \n",
    "    a_list = np.zeros(n_try)\n",
    "    dist = np.zeros(n_try)\n",
    "    for j in range(n_try):\n",
    "        k = k + 1\n",
    "        \n",
    "        # allowing a slope range of -+1.5 times the slope between the first and last points.\n",
    "        a = slope_guess * ( 1 + float(k) / n_try ) \n",
    "\n",
    "        y_cal = np.empty(len(y))\n",
    "        dist_s = np.zeros(len(y_cal))\n",
    "        for i in range(len(x)):\n",
    "            y_cal[i] = a * x[i] + b\n",
    "        \n",
    "        # Least-Squares: The distance of every fit point to the actual data\n",
    "            dist_s[i] = (y_cal[i] - y[i])**2\n",
    "        dist[j] = math.sqrt(sum(dist_s))\n",
    "        a_list[j] = a\n",
    "    \n",
    "    # Find the slope that gave the minimum lsq.\n",
    "    index = np.where(dist==min(dist))\n",
    "    a_min = a_list[index]\n",
    "    return index, min(dist), b, a_min,norm_cte"
   ]
  },
  {
   "cell_type": "code",
   "execution_count": null,
   "metadata": {
    "collapsed": false
   },
   "outputs": [],
   "source": [
    "ind, mdist, b, a, norm_cte = linreg(imp_exp_in.index,imp_exp_in[\"Import\"])"
   ]
  },
  {
   "cell_type": "code",
   "execution_count": null,
   "metadata": {
    "collapsed": false
   },
   "outputs": [],
   "source": [
    "def plot_reg(x,y, islog = False):\n",
    "    reg_line =np.empty(len(x))\n",
    "    plt.plot(x,y,'*')\n",
    "    \n",
    "    for i in range(len(x)):\n",
    "        if islog == True:\n",
    "            reg_line[i] = np.exp((a*x[i] +b)* norm_cte)\n",
    "            fcol = \"m\"\n",
    "            ftitl = \"Exponential fit\"\n",
    "        elif islog == False :\n",
    "            reg_line[i] = (a*x[i] +b)* norm_cte\n",
    "            fcol = \"r\"\n",
    "            ftitl=\"Linear fit\"\n",
    "    plt.plot(x,reg_line, color = fcol,)\n",
    "    plt.title(ftitl)\n",
    "    plt.xlabel(\"Year\")\n",
    "    plt.ylabel(\"Food Price index\")"
   ]
  },
  {
   "cell_type": "markdown",
   "metadata": {},
   "source": [
    "### Do the food prices increase exponentially?"
   ]
  },
  {
   "cell_type": "code",
   "execution_count": null,
   "metadata": {
    "collapsed": false
   },
   "outputs": [],
   "source": [
    "ind, mdist, b, a, norm_cte = linreg(imp_exp_in.index,imp_exp_in[\"Food\"])\n",
    "plot_reg(imp_exp_in.index,imp_exp_in[\"Food\"])\n",
    "\n",
    "#Let's fit an Exponential\n",
    "ind, mdist, b, a, norm_cte = linreg(imp_exp_in.index,imp_exp_in[\"Food\"],True)\n",
    "\n",
    "plt.figure()\n",
    "plot_reg(imp_exp_in.index,imp_exp_in[\"Food\"], True)\n"
   ]
  },
  {
   "cell_type": "markdown",
   "metadata": {
    "collapsed": true
   },
   "source": [
    "Unfortunately!"
   ]
  },
  {
   "cell_type": "markdown",
   "metadata": {},
   "source": []
  },
  {
   "cell_type": "markdown",
   "metadata": {},
   "source": [
    "### EMPLOYMENT DATA\n",
    " Get unemployment per sector too\n"
   ]
  },
  {
   "cell_type": "code",
   "execution_count": null,
   "metadata": {
    "collapsed": false
   },
   "outputs": [],
   "source": [
    "### EMPLOYMENT DATA\n",
    "columns = []\n",
    "columns.append(0)\n",
    "columns[1:len(emp_bud_in.columns)] = range(5,len(emp_bud_in.columns))\n",
    "\n",
    "# Choosing employment data\n",
    "emp_data = emp_bud_in.iloc[:,columns]\n",
    "emp_data = emp_data.set_index([\"Date\"])\n",
    "fig = emp_data.plot.line(legend = False, xlim = [2008,2015])\n",
    "plt.show()"
   ]
  },
  {
   "cell_type": "markdown",
   "metadata": {},
   "source": [
    "### Which sectors employ most people?\n"
   ]
  },
  {
   "cell_type": "code",
   "execution_count": null,
   "metadata": {
    "collapsed": false
   },
   "outputs": [],
   "source": [
    "emp_data.index\n",
    "\n",
    "emp_data.describe().max().plot.bar(title = \"Overall\")\n",
    "plt.show()\n",
    "emp_data.loc[float(2014)].plot.bar(title = \"2014\")\n",
    "plt.show()\n",
    "\n",
    "\n"
   ]
  },
  {
   "cell_type": "code",
   "execution_count": null,
   "metadata": {
    "collapsed": true
   },
   "outputs": [],
   "source": [
    "plot_pathways(emp_data, [\"\"])"
   ]
  },
  {
   "cell_type": "code",
   "execution_count": null,
   "metadata": {
    "collapsed": true
   },
   "outputs": [],
   "source": []
  },
  {
   "cell_type": "code",
   "execution_count": null,
   "metadata": {
    "collapsed": true
   },
   "outputs": [],
   "source": []
  },
  {
   "cell_type": "code",
   "execution_count": null,
   "metadata": {
    "collapsed": true
   },
   "outputs": [],
   "source": []
  },
  {
   "cell_type": "code",
   "execution_count": null,
   "metadata": {
    "collapsed": true
   },
   "outputs": [],
   "source": []
  },
  {
   "cell_type": "code",
   "execution_count": null,
   "metadata": {
    "collapsed": true
   },
   "outputs": [],
   "source": []
  },
  {
   "cell_type": "code",
   "execution_count": null,
   "metadata": {
    "collapsed": true
   },
   "outputs": [],
   "source": []
  }
 ],
 "metadata": {
  "kernelspec": {
   "display_name": "Python 2",
   "language": "python",
   "name": "python2"
  },
  "language_info": {
   "codemirror_mode": {
    "name": "ipython",
    "version": 2
   },
   "file_extension": ".py",
   "mimetype": "text/x-python",
   "name": "python",
   "nbconvert_exporter": "python",
   "pygments_lexer": "ipython2",
   "version": "2.7.13"
  }
 },
 "nbformat": 4,
 "nbformat_minor": 2
}
