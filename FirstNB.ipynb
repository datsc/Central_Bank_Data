{
 "cells": [
  {
   "cell_type": "markdown",
   "metadata": {},
   "source": [
    "## For Anne"
   ]
  },
  {
   "cell_type": "markdown",
   "metadata": {},
   "source": [
    "First download and install numpy, seaborn, pandas and scipy.\n",
    "\n",
    "Then simple exercises.\n",
    "\n",
    "DATACAMP COURSES ARE GREAT!"
   ]
  },
  {
   "cell_type": "code",
   "execution_count": 129,
   "metadata": {
    "collapsed": true
   },
   "outputs": [],
   "source": [
    "import numpy as np\n",
    "import pandas as pd\n",
    "import scipy\n",
    "import sys\n",
    "import math\n",
    "from scipy.optimize import curve_fit\n",
    "from lmfit import Model\n",
    "\n",
    "# for plotting\n",
    "import matplotlib.pyplot as plt\n",
    "import matplotlib as mplib\n",
    "from matplotlib import rc\n",
    "import seaborn as sns\n",
    "\n",
    "## 2. show matlplotlib output in notebook\n",
    "%matplotlib inline"
   ]
  },
  {
   "cell_type": "code",
   "execution_count": 130,
   "metadata": {
    "collapsed": true
   },
   "outputs": [],
   "source": [
    "x = 5"
   ]
  },
  {
   "cell_type": "markdown",
   "metadata": {},
   "source": [
    "### Types: Lists, numpy arrays, dictionaries"
   ]
  },
  {
   "cell_type": "code",
   "execution_count": 131,
   "metadata": {
    "collapsed": true
   },
   "outputs": [],
   "source": [
    "my_list = [1,2,3,4] "
   ]
  },
  {
   "cell_type": "code",
   "execution_count": 132,
   "metadata": {
    "collapsed": false
   },
   "outputs": [
    {
     "data": {
      "text/plain": [
       "[1, 2, 3, 4, 1, 2, 3, 4, 1, 2, 3, 4]"
      ]
     },
     "execution_count": 132,
     "metadata": {},
     "output_type": "execute_result"
    }
   ],
   "source": [
    "my_list * 3"
   ]
  },
  {
   "cell_type": "markdown",
   "metadata": {},
   "source": [
    "For mathematical expressions use numpy"
   ]
  },
  {
   "cell_type": "code",
   "execution_count": 133,
   "metadata": {
    "collapsed": true
   },
   "outputs": [],
   "source": [
    "first_array = np.array(my_list)"
   ]
  },
  {
   "cell_type": "code",
   "execution_count": 134,
   "metadata": {
    "collapsed": false
   },
   "outputs": [
    {
     "name": "stdout",
     "output_type": "stream",
     "text": [
      "[ 3  6  9 12]\n"
     ]
    }
   ],
   "source": [
    "print(first_array*3)"
   ]
  },
  {
   "cell_type": "code",
   "execution_count": 135,
   "metadata": {
    "collapsed": false
   },
   "outputs": [
    {
     "name": "stdout",
     "output_type": "stream",
     "text": [
      "1\n"
     ]
    }
   ],
   "source": [
    "# Get the first element from an array\n",
    "x = first_array[0]\n",
    "print(x)"
   ]
  },
  {
   "cell_type": "markdown",
   "metadata": {},
   "source": [
    "Dictionaries have key value pairs: The order of the keys change, so if you want an element call by key."
   ]
  },
  {
   "cell_type": "code",
   "execution_count": 136,
   "metadata": {
    "collapsed": true
   },
   "outputs": [],
   "source": [
    "pop_unemp = {\"Germany\": [80000000, 4], \"Belgium\": [10000000, 20] }"
   ]
  },
  {
   "cell_type": "code",
   "execution_count": 137,
   "metadata": {
    "collapsed": false
   },
   "outputs": [
    {
     "data": {
      "text/plain": [
       "[80000000, 4]"
      ]
     },
     "execution_count": 137,
     "metadata": {},
     "output_type": "execute_result"
    }
   ],
   "source": [
    "pop_unemp[\"Germany\"]"
   ]
  },
  {
   "cell_type": "markdown",
   "metadata": {},
   "source": [
    "### Writing a function"
   ]
  },
  {
   "cell_type": "code",
   "execution_count": 138,
   "metadata": {
    "collapsed": true
   },
   "outputs": [],
   "source": [
    "def doub_trip(x):\n",
    "    double_x = x*2\n",
    "    triple_x = x*3\n",
    "    return double_x,triple_x"
   ]
  },
  {
   "cell_type": "code",
   "execution_count": 139,
   "metadata": {
    "collapsed": false
   },
   "outputs": [
    {
     "name": "stdout",
     "output_type": "stream",
     "text": [
      "('double of 5 =', 10)\n",
      "('triple of 5 =', 15)\n"
     ]
    }
   ],
   "source": [
    "doub,trip = doub_trip(5)\n",
    "print(\"double of 5 =\",doub)\n",
    "print(\"triple of 5 =\",trip)"
   ]
  },
  {
   "cell_type": "markdown",
   "metadata": {},
   "source": [
    "#### FOR LOOP"
   ]
  },
  {
   "cell_type": "code",
   "execution_count": 140,
   "metadata": {
    "collapsed": false
   },
   "outputs": [
    {
     "name": "stdout",
     "output_type": "stream",
     "text": [
      "0\n",
      "1\n",
      "4\n",
      "9\n",
      "16\n",
      "25\n",
      "36\n",
      "49\n",
      "64\n",
      "81\n"
     ]
    }
   ],
   "source": [
    "for i in range(10):\n",
    "    if i<11:\n",
    "        j = i**2\n",
    "        print(j)\n",
    "    "
   ]
  },
  {
   "cell_type": "code",
   "execution_count": null,
   "metadata": {
    "collapsed": true
   },
   "outputs": [],
   "source": []
  },
  {
   "cell_type": "markdown",
   "metadata": {},
   "source": [
    "## LOADING DATA"
   ]
  },
  {
   "cell_type": "code",
   "execution_count": 141,
   "metadata": {
    "collapsed": true
   },
   "outputs": [],
   "source": [
    "def read_data_in(file_in,column_list,lines):\n",
    "    \"\"\"Function to quickly read a number of lines from Excel and \n",
    "    rename the columns for each data\"\"\"\n",
    "    indat = pd.read_excel(file_in)\n",
    "    indat = indat.loc[0:lines]\n",
    "    indat.columns = column_list\n",
    "    return indat"
   ]
  },
  {
   "cell_type": "code",
   "execution_count": 142,
   "metadata": {
    "collapsed": false
   },
   "outputs": [
    {
     "name": "stdout",
     "output_type": "stream",
     "text": [
      "   Date Total_Debt Short  Long_4A  Long_State_Owned  Long_4B  Private  \\\n",
      "0  1989      43911  5745  38166.0           29446.0  38166.0  17780.0   \n",
      "1  1990      52381  9500  42881.0           33268.0  42881.0  19807.0   \n",
      "\n",
      "   Financial_Inst  Finance_woBanks  Private_Invest  Commercial_Banks  \\\n",
      "0         10831.0           2639.0            28.0            8158.0   \n",
      "1         12154.0           2823.0            22.0            9282.0   \n",
      "\n",
      "   Official  Governmental  International   IMF  Other_international  \n",
      "0   17825.0        9046.0         8779.0  48.0               3040.0  \n",
      "1   19758.0        9810.0         9948.0   0.0               3838.0  \n",
      "   Date Total_Debt Short  Long_4A  Long_State_Owned  Long_4B  Private  \\\n",
      "0  1989      43911  5745  38166.0           29446.0  38166.0  17780.0   \n",
      "1  1990      52381  9500  42881.0           33268.0  42881.0  19807.0   \n",
      "\n",
      "   Financial_Inst  Finance_woBanks  Private_Invest  Commercial_Banks  \\\n",
      "0         10831.0           2639.0            28.0            8158.0   \n",
      "1         12154.0           2823.0            22.0            9282.0   \n",
      "\n",
      "   Official  Governmental  International   IMF  Other_international  \n",
      "0   17825.0        9046.0         8779.0  48.0               3040.0  \n",
      "1   19758.0        9810.0         9948.0   0.0               3838.0  \n"
     ]
    }
   ],
   "source": [
    "# Setting column names\n",
    "# External Debt data\n",
    "ext_debt_col = [\"Date\",\"Total_Debt\",\"Short\",\"Long_4A\",\"Long_State_Owned\",\\\n",
    "                        \"Long_4B\",\"Private\",\"Financial_Inst\",\"Finance_woBanks\",\\\n",
    "                        \"Private_Invest\",\"Commercial_Banks\",\"Official\",\"Governmental\",\\\n",
    "                        \"International\",\"IMF\",\"Other_international\"]\n",
    "\n",
    "ext_debt_in = read_data_in('EVDS_disborc.xlsx', ext_debt_col, 28)\n",
    "\n",
    "#####\n",
    "# original column names\n",
    "print(ext_debt_in.iloc[0:2,:])\n",
    "\n",
    "# after changin col names\n",
    "ext_debt_in.columns = ext_debt_col\n",
    "print(ext_debt_in.iloc[0:2,:])\n",
    "\n"
   ]
  },
  {
   "cell_type": "markdown",
   "metadata": {},
   "source": [
    "### Subsetting pandas data frame"
   ]
  },
  {
   "cell_type": "code",
   "execution_count": 143,
   "metadata": {
    "collapsed": false
   },
   "outputs": [
    {
     "name": "stdout",
     "output_type": "stream",
     "text": [
      "('version1 = ', <class 'pandas.core.series.Series'>)\n",
      "('version2 = ', <class 'pandas.core.frame.DataFrame'>)\n",
      "   Long_4A  Long_State_Owned  Long_4B\n",
      "0  38166.0           29446.0  38166.0\n",
      "1  42881.0           33268.0  42881.0\n"
     ]
    }
   ],
   "source": [
    "#version 1, to get an array\n",
    "my_vec= ext_debt_in[\"Date\"]\n",
    "print(\"version1 = \", type(my_vec))\n",
    "\n",
    "# version 2\n",
    "my_vec2 = ext_debt_in[[\"Date\"]]\n",
    "print(\"version2 = \",type(my_vec2))\n",
    "\n",
    "# version 3 // iloc\n",
    "my_df1 = ext_debt_in.iloc[0:10,3:6]\n",
    "print(my_df1.head(2))"
   ]
  },
  {
   "cell_type": "markdown",
   "metadata": {},
   "source": [
    "### Nice things about PANDAS\n",
    "\n",
    "Here, reading it new data to show something.\n"
   ]
  },
  {
   "cell_type": "code",
   "execution_count": 144,
   "metadata": {
    "collapsed": false
   },
   "outputs": [
    {
     "data": {
      "text/html": [
       "<div>\n",
       "<style>\n",
       "    .dataframe thead tr:only-child th {\n",
       "        text-align: right;\n",
       "    }\n",
       "\n",
       "    .dataframe thead th {\n",
       "        text-align: left;\n",
       "    }\n",
       "\n",
       "    .dataframe tbody tr th {\n",
       "        vertical-align: top;\n",
       "    }\n",
       "</style>\n",
       "<table border=\"1\" class=\"dataframe\">\n",
       "  <thead>\n",
       "    <tr style=\"text-align: right;\">\n",
       "      <th></th>\n",
       "      <th>Date</th>\n",
       "      <th>Living</th>\n",
       "      <th>Health</th>\n",
       "      <th>Education</th>\n",
       "      <th>Food_Drinks</th>\n",
       "      <th>Food</th>\n",
       "      <th>Export</th>\n",
       "      <th>Import</th>\n",
       "      <th>Invest_export</th>\n",
       "      <th>Invest_import</th>\n",
       "      <th>Consume_export</th>\n",
       "      <th>Consume_Import</th>\n",
       "    </tr>\n",
       "  </thead>\n",
       "  <tbody>\n",
       "    <tr>\n",
       "      <th>0</th>\n",
       "      <td>2005-12</td>\n",
       "      <td>126.06</td>\n",
       "      <td>111.75</td>\n",
       "      <td>140.69</td>\n",
       "      <td>116.08</td>\n",
       "      <td>115.70</td>\n",
       "      <td>7246.279</td>\n",
       "      <td>11682.578</td>\n",
       "      <td>752.180</td>\n",
       "      <td>2372.985</td>\n",
       "      <td>3404.019</td>\n",
       "      <td>1558.103</td>\n",
       "    </tr>\n",
       "    <tr>\n",
       "      <th>1</th>\n",
       "      <td>2006-01</td>\n",
       "      <td>127.66</td>\n",
       "      <td>112.47</td>\n",
       "      <td>140.73</td>\n",
       "      <td>117.61</td>\n",
       "      <td>117.28</td>\n",
       "      <td>5133.049</td>\n",
       "      <td>8145.534</td>\n",
       "      <td>501.481</td>\n",
       "      <td>1340.089</td>\n",
       "      <td>2210.229</td>\n",
       "      <td>844.001</td>\n",
       "    </tr>\n",
       "    <tr>\n",
       "      <th>2</th>\n",
       "      <td>2006-02</td>\n",
       "      <td>129.22</td>\n",
       "      <td>113.22</td>\n",
       "      <td>140.70</td>\n",
       "      <td>120.44</td>\n",
       "      <td>120.25</td>\n",
       "      <td>6058.251</td>\n",
       "      <td>9796.220</td>\n",
       "      <td>632.304</td>\n",
       "      <td>1583.855</td>\n",
       "      <td>2801.132</td>\n",
       "      <td>1294.246</td>\n",
       "    </tr>\n",
       "    <tr>\n",
       "      <th>3</th>\n",
       "      <td>2006-03</td>\n",
       "      <td>130</td>\n",
       "      <td>113.64</td>\n",
       "      <td>140.91</td>\n",
       "      <td>122.00</td>\n",
       "      <td>121.91</td>\n",
       "      <td>7411.102</td>\n",
       "      <td>11605.026</td>\n",
       "      <td>819.647</td>\n",
       "      <td>1960.095</td>\n",
       "      <td>3348.993</td>\n",
       "      <td>1516.396</td>\n",
       "    </tr>\n",
       "    <tr>\n",
       "      <th>4</th>\n",
       "      <td>2006-04</td>\n",
       "      <td>130.27</td>\n",
       "      <td>113.96</td>\n",
       "      <td>141.07</td>\n",
       "      <td>122.75</td>\n",
       "      <td>122.69</td>\n",
       "      <td>6456.090</td>\n",
       "      <td>11587.101</td>\n",
       "      <td>742.248</td>\n",
       "      <td>1932.196</td>\n",
       "      <td>2932.833</td>\n",
       "      <td>1425.378</td>\n",
       "    </tr>\n",
       "  </tbody>\n",
       "</table>\n",
       "</div>"
      ],
      "text/plain": [
       "      Date  Living  Health  Education  Food_Drinks    Food    Export  \\\n",
       "0  2005-12  126.06  111.75     140.69       116.08  115.70  7246.279   \n",
       "1  2006-01  127.66  112.47     140.73       117.61  117.28  5133.049   \n",
       "2  2006-02  129.22  113.22     140.70       120.44  120.25  6058.251   \n",
       "3  2006-03     130  113.64     140.91       122.00  121.91  7411.102   \n",
       "4  2006-04  130.27  113.96     141.07       122.75  122.69  6456.090   \n",
       "\n",
       "      Import  Invest_export  Invest_import  Consume_export  Consume_Import  \n",
       "0  11682.578        752.180       2372.985        3404.019        1558.103  \n",
       "1   8145.534        501.481       1340.089        2210.229         844.001  \n",
       "2   9796.220        632.304       1583.855        2801.132        1294.246  \n",
       "3  11605.026        819.647       1960.095        3348.993        1516.396  \n",
       "4  11587.101        742.248       1932.196        2932.833        1425.378  "
      ]
     },
     "execution_count": 144,
     "metadata": {},
     "output_type": "execute_result"
    }
   ],
   "source": [
    "# Import - Export - Consumer Prices\n",
    "imp_exp_col = [\"Date\",\"Living\",\"Health\",\"Education\",\"Food_Drinks\",\"Food\",\\\n",
    "                        \"Export\",\"Import\",\"Invest_export\",\"Invest_import\",\\\n",
    "                        \"Consume_export\",\"Consume_Import\"]\n",
    "\n",
    "imp_exp_in  = read_data_in('EVDS_ithalat_ihracat.xlsx', imp_exp_col, 149)\n",
    "#imp_exp_in.info()\n",
    "imp_exp_in.head(5)\n"
   ]
  },
  {
   "cell_type": "code",
   "execution_count": 145,
   "metadata": {
    "collapsed": false
   },
   "outputs": [
    {
     "data": {
      "text/html": [
       "<div>\n",
       "<style>\n",
       "    .dataframe thead tr:only-child th {\n",
       "        text-align: right;\n",
       "    }\n",
       "\n",
       "    .dataframe thead th {\n",
       "        text-align: left;\n",
       "    }\n",
       "\n",
       "    .dataframe tbody tr th {\n",
       "        vertical-align: top;\n",
       "    }\n",
       "</style>\n",
       "<table border=\"1\" class=\"dataframe\">\n",
       "  <thead>\n",
       "    <tr style=\"text-align: right;\">\n",
       "      <th></th>\n",
       "      <th>Date</th>\n",
       "      <th>Living</th>\n",
       "      <th>Health</th>\n",
       "      <th>Education</th>\n",
       "      <th>Food_Drinks</th>\n",
       "      <th>Food</th>\n",
       "      <th>Export</th>\n",
       "      <th>Import</th>\n",
       "      <th>Invest_export</th>\n",
       "      <th>Invest_import</th>\n",
       "      <th>Consume_export</th>\n",
       "      <th>Consume_Import</th>\n",
       "    </tr>\n",
       "  </thead>\n",
       "  <tbody>\n",
       "    <tr>\n",
       "      <th>0</th>\n",
       "      <td>2005</td>\n",
       "      <td>126.06</td>\n",
       "      <td>111.75</td>\n",
       "      <td>140.69</td>\n",
       "      <td>116.08</td>\n",
       "      <td>115.70</td>\n",
       "      <td>7246.279</td>\n",
       "      <td>11682.578</td>\n",
       "      <td>752.180</td>\n",
       "      <td>2372.985</td>\n",
       "      <td>3404.019</td>\n",
       "      <td>1558.103</td>\n",
       "    </tr>\n",
       "    <tr>\n",
       "      <th>1</th>\n",
       "      <td>2006</td>\n",
       "      <td>127.66</td>\n",
       "      <td>112.47</td>\n",
       "      <td>140.73</td>\n",
       "      <td>117.61</td>\n",
       "      <td>117.28</td>\n",
       "      <td>5133.049</td>\n",
       "      <td>8145.534</td>\n",
       "      <td>501.481</td>\n",
       "      <td>1340.089</td>\n",
       "      <td>2210.229</td>\n",
       "      <td>844.001</td>\n",
       "    </tr>\n",
       "  </tbody>\n",
       "</table>\n",
       "</div>"
      ],
      "text/plain": [
       "   Date  Living  Health  Education  Food_Drinks    Food    Export     Import  \\\n",
       "0  2005  126.06  111.75     140.69       116.08  115.70  7246.279  11682.578   \n",
       "1  2006  127.66  112.47     140.73       117.61  117.28  5133.049   8145.534   \n",
       "\n",
       "   Invest_export  Invest_import  Consume_export  Consume_Import  \n",
       "0        752.180       2372.985        3404.019        1558.103  \n",
       "1        501.481       1340.089        2210.229         844.001  "
      ]
     },
     "execution_count": 145,
     "metadata": {},
     "output_type": "execute_result"
    }
   ],
   "source": [
    "# Let's clean the month info and keep years.\n",
    "\n",
    "imp_exp_in[\"Date\"] = imp_exp_in[\"Date\"].str.split('-',n=1, expand = True)[0]\n",
    "imp_exp_in.head(2)"
   ]
  },
  {
   "cell_type": "code",
   "execution_count": 146,
   "metadata": {
    "collapsed": false
   },
   "outputs": [
    {
     "data": {
      "text/plain": [
       "pandas.core.frame.DataFrame"
      ]
     },
     "execution_count": 146,
     "metadata": {},
     "output_type": "execute_result"
    }
   ],
   "source": [
    "#imp_exp_in[\"Date\"] = pd.to_numeric(imp_exp_in[\"Date\"])\n",
    "\n",
    "# APPLY: Great function to know\n",
    "imp_exp_in.mean()\n",
    "type(imp_exp_in)\n",
    "\n"
   ]
  },
  {
   "cell_type": "markdown",
   "metadata": {},
   "source": [
    "### AGGRGATE COLUMN WITH FUNCTION MEAN"
   ]
  },
  {
   "cell_type": "code",
   "execution_count": 147,
   "metadata": {
    "collapsed": false
   },
   "outputs": [
    {
     "data": {
      "text/html": [
       "<div>\n",
       "<style>\n",
       "    .dataframe thead tr:only-child th {\n",
       "        text-align: right;\n",
       "    }\n",
       "\n",
       "    .dataframe thead th {\n",
       "        text-align: left;\n",
       "    }\n",
       "\n",
       "    .dataframe tbody tr th {\n",
       "        vertical-align: top;\n",
       "    }\n",
       "</style>\n",
       "<table border=\"1\" class=\"dataframe\">\n",
       "  <thead>\n",
       "    <tr style=\"text-align: right;\">\n",
       "      <th></th>\n",
       "      <th>Food</th>\n",
       "      <th>Export</th>\n",
       "    </tr>\n",
       "    <tr>\n",
       "      <th>Date</th>\n",
       "      <th></th>\n",
       "      <th></th>\n",
       "    </tr>\n",
       "  </thead>\n",
       "  <tbody>\n",
       "    <tr>\n",
       "      <th>2005</th>\n",
       "      <td>115.700000</td>\n",
       "      <td>7246.279000</td>\n",
       "    </tr>\n",
       "    <tr>\n",
       "      <th>2006</th>\n",
       "      <td>122.678333</td>\n",
       "      <td>7127.889500</td>\n",
       "    </tr>\n",
       "    <tr>\n",
       "      <th>2007</th>\n",
       "      <td>138.230833</td>\n",
       "      <td>8939.312000</td>\n",
       "    </tr>\n",
       "    <tr>\n",
       "      <th>2008</th>\n",
       "      <td>156.312500</td>\n",
       "      <td>11002.265833</td>\n",
       "    </tr>\n",
       "  </tbody>\n",
       "</table>\n",
       "</div>"
      ],
      "text/plain": [
       "            Food        Export\n",
       "Date                          \n",
       "2005  115.700000   7246.279000\n",
       "2006  122.678333   7127.889500\n",
       "2007  138.230833   8939.312000\n",
       "2008  156.312500  11002.265833"
      ]
     },
     "execution_count": 147,
     "metadata": {},
     "output_type": "execute_result"
    }
   ],
   "source": [
    "imp_exp_in = imp_exp_in.groupby([\"Date\"]).mean()\n",
    "#imp_exp_in = imp_exp_in.reset_index()\n",
    "imp_exp_in.head()\n",
    "\n",
    "# NOW LOC INSTEAD OF ILOC\n",
    "subset = imp_exp_in.loc[\"2005\":\"2008\",\"Food\": \"Export\"]\n",
    "subset.head()"
   ]
  },
  {
   "cell_type": "code",
   "execution_count": 148,
   "metadata": {
    "collapsed": false
   },
   "outputs": [
    {
     "data": {
      "text/html": [
       "<div>\n",
       "<style>\n",
       "    .dataframe thead tr:only-child th {\n",
       "        text-align: right;\n",
       "    }\n",
       "\n",
       "    .dataframe thead th {\n",
       "        text-align: left;\n",
       "    }\n",
       "\n",
       "    .dataframe tbody tr th {\n",
       "        vertical-align: top;\n",
       "    }\n",
       "</style>\n",
       "<table border=\"1\" class=\"dataframe\">\n",
       "  <thead>\n",
       "    <tr style=\"text-align: right;\">\n",
       "      <th></th>\n",
       "      <th>Date</th>\n",
       "      <th>Education</th>\n",
       "      <th>Food_Drinks</th>\n",
       "      <th>Food</th>\n",
       "      <th>Export</th>\n",
       "      <th>Import</th>\n",
       "      <th>Invest_export</th>\n",
       "      <th>Invest_import</th>\n",
       "      <th>Consume_export</th>\n",
       "      <th>Consume_Import</th>\n",
       "    </tr>\n",
       "  </thead>\n",
       "  <tbody>\n",
       "    <tr>\n",
       "      <th>0</th>\n",
       "      <td>2005</td>\n",
       "      <td>140.690000</td>\n",
       "      <td>116.080000</td>\n",
       "      <td>115.700000</td>\n",
       "      <td>7246.279000</td>\n",
       "      <td>11682.578000</td>\n",
       "      <td>752.180000</td>\n",
       "      <td>2372.985000</td>\n",
       "      <td>3404.019000</td>\n",
       "      <td>1558.103000</td>\n",
       "    </tr>\n",
       "    <tr>\n",
       "      <th>1</th>\n",
       "      <td>2006</td>\n",
       "      <td>145.649167</td>\n",
       "      <td>122.945000</td>\n",
       "      <td>122.678333</td>\n",
       "      <td>7127.889500</td>\n",
       "      <td>11631.347250</td>\n",
       "      <td>785.280583</td>\n",
       "      <td>1945.629167</td>\n",
       "      <td>3149.206333</td>\n",
       "      <td>1343.027000</td>\n",
       "    </tr>\n",
       "    <tr>\n",
       "      <th>2</th>\n",
       "      <td>2007</td>\n",
       "      <td>156.143333</td>\n",
       "      <td>138.210833</td>\n",
       "      <td>138.230833</td>\n",
       "      <td>8939.312000</td>\n",
       "      <td>14171.892333</td>\n",
       "      <td>1146.211583</td>\n",
       "      <td>2254.535583</td>\n",
       "      <td>3641.321917</td>\n",
       "      <td>1557.837167</td>\n",
       "    </tr>\n",
       "    <tr>\n",
       "      <th>3</th>\n",
       "      <td>2008</td>\n",
       "      <td>166.695833</td>\n",
       "      <td>155.884167</td>\n",
       "      <td>156.312500</td>\n",
       "      <td>11002.265833</td>\n",
       "      <td>16830.297417</td>\n",
       "      <td>1393.781083</td>\n",
       "      <td>2335.054917</td>\n",
       "      <td>3923.075250</td>\n",
       "      <td>1790.769167</td>\n",
       "    </tr>\n",
       "    <tr>\n",
       "      <th>4</th>\n",
       "      <td>2009</td>\n",
       "      <td>176.365833</td>\n",
       "      <td>168.387500</td>\n",
       "      <td>168.870833</td>\n",
       "      <td>8511.883833</td>\n",
       "      <td>11744.034583</td>\n",
       "      <td>926.402167</td>\n",
       "      <td>1788.568167</td>\n",
       "      <td>3394.418583</td>\n",
       "      <td>1607.475167</td>\n",
       "    </tr>\n",
       "  </tbody>\n",
       "</table>\n",
       "</div>"
      ],
      "text/plain": [
       "   Date   Education  Food_Drinks        Food        Export        Import  \\\n",
       "0  2005  140.690000   116.080000  115.700000   7246.279000  11682.578000   \n",
       "1  2006  145.649167   122.945000  122.678333   7127.889500  11631.347250   \n",
       "2  2007  156.143333   138.210833  138.230833   8939.312000  14171.892333   \n",
       "3  2008  166.695833   155.884167  156.312500  11002.265833  16830.297417   \n",
       "4  2009  176.365833   168.387500  168.870833   8511.883833  11744.034583   \n",
       "\n",
       "   Invest_export  Invest_import  Consume_export  Consume_Import  \n",
       "0     752.180000    2372.985000     3404.019000     1558.103000  \n",
       "1     785.280583    1945.629167     3149.206333     1343.027000  \n",
       "2    1146.211583    2254.535583     3641.321917     1557.837167  \n",
       "3    1393.781083    2335.054917     3923.075250     1790.769167  \n",
       "4     926.402167    1788.568167     3394.418583     1607.475167  "
      ]
     },
     "execution_count": 148,
     "metadata": {},
     "output_type": "execute_result"
    }
   ],
   "source": [
    "# Getting date back from being an index to a column name\n",
    "imp_exp_in = imp_exp_in.reset_index()\n",
    "imp_exp_in.head()\n"
   ]
  },
  {
   "cell_type": "code",
   "execution_count": 149,
   "metadata": {
    "collapsed": true
   },
   "outputs": [],
   "source": [
    "# write a subset to excel"
   ]
  },
  {
   "cell_type": "code",
   "execution_count": 150,
   "metadata": {
    "collapsed": false
   },
   "outputs": [
    {
     "name": "stdout",
     "output_type": "stream",
     "text": [
      "        Education  Food_Drinks        Food        Export        Import  \\\n",
      "count   14.000000    14.000000   14.000000     14.000000     14.000000   \n",
      "mean   215.647702   223.624833  225.293488  10918.456207  16904.610029   \n",
      "std     60.695682    84.753823   86.206040   2257.001091   3500.932890   \n",
      "min    140.690000   116.080000  115.700000   7127.889500  11631.347250   \n",
      "25%    169.113333   159.010000  159.452083   9077.050938  14494.426063   \n",
      "50%    201.865833   206.135833  207.488333  11559.851958  17049.913458   \n",
      "75%    255.391667   285.519375  289.084375  12691.412938  19980.627979   \n",
      "max    329.052000   381.476000  385.238000  13861.812400  20971.770250   \n",
      "\n",
      "       Invest_export  Invest_import  Consume_export  Consume_Import  \n",
      "count      14.000000      14.000000       14.000000       14.000000  \n",
      "mean     1193.880294    2603.022980     4408.227969     2065.272940  \n",
      "std       260.141846     423.582999      858.723905      407.728874  \n",
      "min       752.180000    1788.568167     3149.206333     1343.027000  \n",
      "25%      1021.809458    2344.537438     3675.168479     1653.298667  \n",
      "50%      1232.649875    2722.560942     4490.629250     2241.995042  \n",
      "75%      1337.765292    2972.120063     5027.963729     2380.176063  \n",
      "max      1624.492200    3105.883750     5718.388400     2534.657333  \n"
     ]
    },
    {
     "data": {
      "text/html": [
       "<div>\n",
       "<style>\n",
       "    .dataframe thead tr:only-child th {\n",
       "        text-align: right;\n",
       "    }\n",
       "\n",
       "    .dataframe thead th {\n",
       "        text-align: left;\n",
       "    }\n",
       "\n",
       "    .dataframe tbody tr th {\n",
       "        vertical-align: top;\n",
       "    }\n",
       "</style>\n",
       "<table border=\"1\" class=\"dataframe\">\n",
       "  <thead>\n",
       "    <tr style=\"text-align: right;\">\n",
       "      <th></th>\n",
       "      <th>Date</th>\n",
       "      <th>Education</th>\n",
       "      <th>Food_Drinks</th>\n",
       "      <th>Food</th>\n",
       "      <th>Export</th>\n",
       "      <th>Import</th>\n",
       "      <th>Invest_export</th>\n",
       "      <th>Invest_import</th>\n",
       "      <th>Consume_export</th>\n",
       "      <th>Consume_Import</th>\n",
       "    </tr>\n",
       "  </thead>\n",
       "  <tbody>\n",
       "    <tr>\n",
       "      <th>0</th>\n",
       "      <td>2005</td>\n",
       "      <td>140.690000</td>\n",
       "      <td>116.080000</td>\n",
       "      <td>115.700000</td>\n",
       "      <td>7246.279000</td>\n",
       "      <td>11682.578000</td>\n",
       "      <td>752.180000</td>\n",
       "      <td>2372.985000</td>\n",
       "      <td>3404.019000</td>\n",
       "      <td>1558.103000</td>\n",
       "    </tr>\n",
       "    <tr>\n",
       "      <th>1</th>\n",
       "      <td>2006</td>\n",
       "      <td>145.649167</td>\n",
       "      <td>122.945000</td>\n",
       "      <td>122.678333</td>\n",
       "      <td>7127.889500</td>\n",
       "      <td>11631.347250</td>\n",
       "      <td>785.280583</td>\n",
       "      <td>1945.629167</td>\n",
       "      <td>3149.206333</td>\n",
       "      <td>1343.027000</td>\n",
       "    </tr>\n",
       "    <tr>\n",
       "      <th>2</th>\n",
       "      <td>2007</td>\n",
       "      <td>156.143333</td>\n",
       "      <td>138.210833</td>\n",
       "      <td>138.230833</td>\n",
       "      <td>8939.312000</td>\n",
       "      <td>14171.892333</td>\n",
       "      <td>1146.211583</td>\n",
       "      <td>2254.535583</td>\n",
       "      <td>3641.321917</td>\n",
       "      <td>1557.837167</td>\n",
       "    </tr>\n",
       "    <tr>\n",
       "      <th>3</th>\n",
       "      <td>2008</td>\n",
       "      <td>166.695833</td>\n",
       "      <td>155.884167</td>\n",
       "      <td>156.312500</td>\n",
       "      <td>11002.265833</td>\n",
       "      <td>16830.297417</td>\n",
       "      <td>1393.781083</td>\n",
       "      <td>2335.054917</td>\n",
       "      <td>3923.075250</td>\n",
       "      <td>1790.769167</td>\n",
       "    </tr>\n",
       "    <tr>\n",
       "      <th>4</th>\n",
       "      <td>2009</td>\n",
       "      <td>176.365833</td>\n",
       "      <td>168.387500</td>\n",
       "      <td>168.870833</td>\n",
       "      <td>8511.883833</td>\n",
       "      <td>11744.034583</td>\n",
       "      <td>926.402167</td>\n",
       "      <td>1788.568167</td>\n",
       "      <td>3394.418583</td>\n",
       "      <td>1607.475167</td>\n",
       "    </tr>\n",
       "  </tbody>\n",
       "</table>\n",
       "</div>"
      ],
      "text/plain": [
       "   Date   Education  Food_Drinks        Food        Export        Import  \\\n",
       "0  2005  140.690000   116.080000  115.700000   7246.279000  11682.578000   \n",
       "1  2006  145.649167   122.945000  122.678333   7127.889500  11631.347250   \n",
       "2  2007  156.143333   138.210833  138.230833   8939.312000  14171.892333   \n",
       "3  2008  166.695833   155.884167  156.312500  11002.265833  16830.297417   \n",
       "4  2009  176.365833   168.387500  168.870833   8511.883833  11744.034583   \n",
       "\n",
       "   Invest_export  Invest_import  Consume_export  Consume_Import  \n",
       "0     752.180000    2372.985000     3404.019000     1558.103000  \n",
       "1     785.280583    1945.629167     3149.206333     1343.027000  \n",
       "2    1146.211583    2254.535583     3641.321917     1557.837167  \n",
       "3    1393.781083    2335.054917     3923.075250     1790.769167  \n",
       "4     926.402167    1788.568167     3394.418583     1607.475167  "
      ]
     },
     "execution_count": 150,
     "metadata": {},
     "output_type": "execute_result"
    }
   ],
   "source": [
    "print(imp_exp_in.describe())\n",
    "imp_exp_in.head()\n"
   ]
  },
  {
   "cell_type": "markdown",
   "metadata": {},
   "source": [
    "### Write to Excel\n"
   ]
  },
  {
   "cell_type": "code",
   "execution_count": 151,
   "metadata": {
    "collapsed": false
   },
   "outputs": [],
   "source": [
    "imp_exp_in.to_excel(\"Excel_from_jupyter.xlsx\")\n"
   ]
  },
  {
   "cell_type": "code",
   "execution_count": 153,
   "metadata": {
    "collapsed": false
   },
   "outputs": [
    {
     "data": {
      "text/plain": [
       "<matplotlib.legend.Legend at 0x11a737850>"
      ]
     },
     "execution_count": 153,
     "metadata": {},
     "output_type": "execute_result"
    },
    {
     "data": {
      "image/png": "[encoded data removed]",
      "text/plain": [
       "<matplotlib.figure.Figure at 0x11725c250>"
      ]
     },
     "metadata": {},
     "output_type": "display_data"
    }
   ],
   "source": [
    "#plot\n",
    "X=imp_exp_in[\"Date\"]\n",
    "Y=imp_exp_in[\"Education\"]\n",
    "Y2=imp_exp_in[\"Food\"]\n",
    "\n",
    "plt.plot(X,Y, '-.r')\n",
    "plt.plot(X,Y2, '*g')\n",
    "plt.xlabel(\"Date\")\n",
    "plt.ylabel(\"Variable\")\n",
    "plt.legend()"
   ]
  },
  {
   "cell_type": "code",
   "execution_count": null,
   "metadata": {
    "collapsed": true
   },
   "outputs": [],
   "source": []
  },
  {
   "cell_type": "code",
   "execution_count": null,
   "metadata": {
    "collapsed": true
   },
   "outputs": [],
   "source": []
  }
 ],
 "metadata": {
  "kernelspec": {
   "display_name": "Python 2",
   "language": "python",
   "name": "python2"
  },
  "language_info": {
   "codemirror_mode": {
    "name": "ipython",
    "version": 2
   },
   "file_extension": ".py",
   "mimetype": "text/x-python",
   "name": "python",
   "nbconvert_exporter": "python",
   "pygments_lexer": "ipython2",
   "version": "2.7.13"
  }
 },
 "nbformat": 4,
 "nbformat_minor": 2
}
